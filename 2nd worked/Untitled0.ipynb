{
  "nbformat": 4,
  "nbformat_minor": 0,
  "metadata": {
    "colab": {
      "provenance": []
    },
    "kernelspec": {
      "name": "python3",
      "display_name": "Python 3"
    },
    "language_info": {
      "name": "python"
    }
  },
  "cells": [
    {
      "cell_type": "code",
      "execution_count": 1,
      "metadata": {
        "colab": {
          "base_uri": "https://localhost:8080/"
        },
        "id": "r81dfFC8i_qW",
        "outputId": "c3d9754d-122b-4319-ca24-ed604767bab3"
      },
      "outputs": [
        {
          "output_type": "stream",
          "name": "stderr",
          "text": [
            "[nltk_data] Downloading package stopwords to /root/nltk_data...\n",
            "[nltk_data]   Unzipping corpora/stopwords.zip.\n"
          ]
        }
      ],
      "source": [
        "import string\n",
        "import pickle\n",
        "import nltk\n",
        "from nltk.corpus import stopwords\n",
        "from sklearn.feature_extraction.text import TfidfVectorizer\n",
        "import numpy as np\n",
        "\n",
        "nltk.download(\"stopwords\")\n",
        "\n",
        "def preprocess_text(text):\n",
        "    text = text.translate(str.maketrans(\"\", \"\", string.punctuation))\n",
        "    text = text.lower()\n",
        "    stop_words = set(stopwords.words(\"english\"))\n",
        "    text = \" \".join(word for word in text.split() if word not in stop_words)\n",
        "    return text\n",
        "\n",
        "model = pickle.load(open('model.pkl', 'rb'))\n",
        "tfidf_vectorizer = pickle.load(open('tfidf_vectorizer.pkl', 'rb'))\n",
        "\n",
        "def detect(input_text):\n",
        "    input_text = preprocess_text(input_text)\n",
        "    vectorized_text = tfidf_vectorizer.transform([input_text])\n",
        "    result = model.predict(vectorized_text)\n",
        "    return \"Plagiarism Detected\" if result[0] == 1 else \"No Plagiarism\"\n",
        "\n",
        "\n"
      ]
    },
    {
      "cell_type": "code",
      "source": [
        "if __name__ == \"__main__\":\n",
        "    input_text = \"\"\"Machine learning teaches computers to recognize patterns and make decisions automatically using data and algorithms. It can be broadly categorized into three types:\n",
        "Supervised Learning: Trains models on labeled data to predict or classify new, unseen data.\n",
        "Unsupervised Learning: Finds patterns or groups in unlabeled data, like clustering or dimensionality reduction.\n",
        "Reinforcement Learning: Learns through trial and error to maximize rewards, ideal for decision-making tasks.\"\"\"\n",
        "    print(detect(input_text))"
      ],
      "metadata": {
        "colab": {
          "base_uri": "https://localhost:8080/"
        },
        "id": "OOb_kzw0lq7q",
        "outputId": "f976f88c-430a-4461-c545-fb2e8700dc45"
      },
      "execution_count": 2,
      "outputs": [
        {
          "output_type": "stream",
          "name": "stdout",
          "text": [
            "No Plagiarism\n"
          ]
        }
      ]
    },
    {
      "cell_type": "code",
      "source": [
        "input_text = \"\"\"Albert Einstein developed the theory of relativity, which revolutionized physics.\n",
        "This theory introduced groundbreaking concepts such as time dilation and the equivalence of mass and energy, famously expressed as E=mc^2.\n",
        "Einstein's work fundamentally changed our understanding of space and time, influencing modern physics and cosmology.\"\"\"\n",
        "print(detect(input_text))"
      ],
      "metadata": {
        "colab": {
          "base_uri": "https://localhost:8080/"
        },
        "id": "J6JZe5Wal6ht",
        "outputId": "09908675-edce-4166-cdd9-37462b28699e"
      },
      "execution_count": 5,
      "outputs": [
        {
          "output_type": "stream",
          "name": "stdout",
          "text": [
            "Plagiarism Detected\n"
          ]
        }
      ]
    },
    {
      "cell_type": "code",
      "source": [
        "input_text = \"\"\"In recent years, scientists have explored the mysteries of black holes, uncovering new insights about their event horizons and gravitational forces.\n",
        "These celestial bodies, with immense gravitational pull, even bend light around them, creating phenomena like gravitational lensing.\n",
        "Advanced telescopes and space missions continue to reveal more about their composition and behavior.\"\"\"\n",
        "print(detect(input_text))\n"
      ],
      "metadata": {
        "colab": {
          "base_uri": "https://localhost:8080/"
        },
        "id": "Flya6HC-mDiw",
        "outputId": "e58c8e74-2b1d-4689-b884-641ea9237975"
      },
      "execution_count": 6,
      "outputs": [
        {
          "output_type": "stream",
          "name": "stdout",
          "text": [
            "Plagiarism Detected\n"
          ]
        }
      ]
    },
    {
      "cell_type": "code",
      "source": [
        "input_text = \"\"\"The Great Wall of China was built to protect against invasions and raids from nomadic tribes.\n",
        "Stretching over 13,000 miles, it consists of walls, watchtowers, and fortresses, primarily constructed during the Ming Dynasty.\n",
        "The wall, made of stone, brick, and other materials, played a crucial role in China's defense strategy.\n",
        "It is one of the most recognized landmarks in the world and attracts millions of visitors each year.\n",
        "Many historians believe that while the wall was effective, it was not impenetrable and had limitations in stopping major invasions.\n",
        "Today, it stands as a symbol of China’s rich history and engineering prowess.\"\"\"\n",
        "print(detect(input_text))\n"
      ],
      "metadata": {
        "colab": {
          "base_uri": "https://localhost:8080/"
        },
        "id": "NyTIuGnlmdBd",
        "outputId": "4c8061af-8d2d-48a8-a180-82faaf11ce8d"
      },
      "execution_count": 7,
      "outputs": [
        {
          "output_type": "stream",
          "name": "stdout",
          "text": [
            "Plagiarism Detected\n"
          ]
        }
      ]
    },
    {
      "cell_type": "code",
      "source": [
        "input_text = \"\"\"The Silence of the Lambs Psychological Analysis\n",
        "In the movie The Silence of the Lambs, Hannibal Lecter portrays several traits and behavioral patterns that show he is suffering from a psychological condition.\n",
        "Comparing Freud, Adler and Jung Psychology\n",
        "Freud did develop the original theories of the conscious and unconscious and subconscious; the ego, id and superego; the libidinal and aggressive drives; the Oedipus and Electra complexes; the defense mechanisms of the mind being, […]\n",
        "Psychology: Change Blindness Experiment\n",
        "The independent variable was the type of change, and the dependent variable was the response to detecting the changes. Broadly, it was established that change blindness varied with the type of change introduced because incongruent […]\n",
        "The Tell-Tale Heart Psychological Analysis & Critique\n",
        "The outstanding character in the tale, who is also the narrator, attracts a lot of attention from the readers. The narrator forms the basis of the tale.\n",
        "Six Major Psychological Theories: Strengths and Weaknesses\n",
        "Behavioral psychology is considered a descendant of the animal psychology, which argues that the environment has a lot of influence in the changes that take place in human beings.\n",
        "Psychological Science: Counseling Essay (Theory of Counseling)\n",
        "Another important aspect is the counseling process; this depends on the individual counselor and client and the urgency of the issue in question.\n",
        "Psychological Disorders in “American Psycho” Movie\n",
        "The main character, who will be the basis of this paper’s analysis, is Patrick Bateman, who is a young and successful individual.\n",
        "\"\"\"\n",
        "print(detect(input_text))\n"
      ],
      "metadata": {
        "colab": {
          "base_uri": "https://localhost:8080/"
        },
        "id": "NRj27WG2mprI",
        "outputId": "ffa3a9e3-f56b-4f2d-fcde-14e2c1c1286a"
      },
      "execution_count": 9,
      "outputs": [
        {
          "output_type": "stream",
          "name": "stdout",
          "text": [
            "No Plagiarism\n"
          ]
        }
      ]
    },
    {
      "cell_type": "code",
      "source": [
        "input_text = \"\"\"Technology has become an intrinsic part of our everyday lives, shaping the way we connect, communicate, and learn. At its core, technology refers to the application of scientific knowledge for practical purposes. It encompasses a wide range of tools, devices, and techniques that enhance our ability to perform tasks efficiently. In today’s fast-paced environment, the importance of technology cannot be overstated. It influences nearly every sector, including education, which plays a central role in shaping the future of students. However, with these advancements come nuanced perspectives on whether technology acts as a boon or a bane for students.\n",
        "The debate on the dual nature of technology is essential in the context of education. On one hand, some argue that technology serves as a powerful tool that promotes learning and facilitates communication. On the other hand, critics point out the adverse effects that excessive reliance on technology can have on students’ physical and mental well-being. Therefore, the thesis statement for this essay will explore the intricate dynamics between technology and students, analyzing how it can be seen as either a boon or a bane.\"\"\"\n",
        "print(detect(input_text))"
      ],
      "metadata": {
        "colab": {
          "base_uri": "https://localhost:8080/"
        },
        "id": "n-SrM0SVmtB9",
        "outputId": "d3886e22-fc0b-4f29-84f8-41f10f1d19c6"
      },
      "execution_count": 10,
      "outputs": [
        {
          "output_type": "stream",
          "name": "stdout",
          "text": [
            "No Plagiarism\n"
          ]
        }
      ]
    },
    {
      "cell_type": "code",
      "source": [
        "input_text = \"\"\"In the modern world, technological advancements continue to shape various aspects of life.\n",
        "From artificial intelligence to space exploration, humanity is making remarkable progress.\n",
        "Innovations in healthcare have led to the development of life-saving treatments, while renewable energy sources aim to reduce environmental impact.\n",
        "Education has also evolved with the rise of online learning platforms, making knowledge accessible to people worldwide.\n",
        "As societies adapt to these changes, ethical considerations become essential in ensuring technology benefits everyone.\n",
        "Balancing progress with sustainability is crucial for the future, allowing generations to enjoy the advantages of scientific discoveries while preserving the planet.\"\"\"\n",
        "print(detect(input_text))\n"
      ],
      "metadata": {
        "colab": {
          "base_uri": "https://localhost:8080/"
        },
        "id": "Rh1NovzJpCky",
        "outputId": "00732104-c665-4e6c-8297-69564dcccbe0"
      },
      "execution_count": 11,
      "outputs": [
        {
          "output_type": "stream",
          "name": "stdout",
          "text": [
            "No Plagiarism\n"
          ]
        }
      ]
    },
    {
      "cell_type": "code",
      "source": [],
      "metadata": {
        "id": "bq5IDsZVpP5l"
      },
      "execution_count": null,
      "outputs": []
    }
  ]
}